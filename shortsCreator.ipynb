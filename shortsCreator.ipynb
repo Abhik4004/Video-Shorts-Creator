{
  "cells": [
    {
      "cell_type": "code",
      "execution_count": 11,
      "metadata": {
        "id": "K2E4lzOefUBR"
      },
      "outputs": [],
      "source": [
        "import cv2\n",
        "from google.colab.patches import cv2_imshow\n",
        "import numpy as np"
      ]
    },
    {
      "cell_type": "code",
      "execution_count": 26,
      "metadata": {
        "colab": {
          "base_uri": "https://localhost:8080/"
        },
        "id": "4Hahh1hhfbkZ",
        "outputId": "5f48a175-946a-45b5-8423-792c72567ce0"
      },
      "outputs": [
        {
          "output_type": "stream",
          "name": "stdout",
          "text": [
            "329\n"
          ]
        }
      ],
      "source": [
        "capture = cv2.VideoCapture(\"/content/191159-889246512_tiny.mp4\")\n",
        "\n",
        "if(capture.isOpened()== False):\n",
        "  print(\"Video can not be openned\")\n",
        "\n",
        "frames = []\n",
        "#print(capture.read())\n",
        "\n",
        "while(capture.isOpened()):\n",
        "  ret,frame = capture.read()\n",
        "  if(ret == True):\n",
        "    # cv2_imshow(frame)\n",
        "    frames.append(frame)\n",
        "    if cv2.waitKey(25) & 0xFF == ord('q'):\n",
        "      break\n",
        "  else :\n",
        "    break\n",
        "\n",
        "cv2.destroyAllWindows()\n",
        "\n",
        "print(len(frames))"
      ]
    },
    {
      "cell_type": "code",
      "execution_count": 37,
      "metadata": {
        "colab": {
          "base_uri": "https://localhost:8080/"
        },
        "id": "emqBlflxjpXU",
        "outputId": "56ede855-f106-42ec-8ee6-a5e6c7f84ac3"
      },
      "outputs": [
        {
          "output_type": "stream",
          "name": "stdout",
          "text": [
            "100\n"
          ]
        }
      ],
      "source": [
        "frame_diff = []\n",
        "for i in range(1, len(frames)):\n",
        "    frame_value = cv2.absdiff(frames[i - 1], frames[i])\n",
        "    gray = cv2.cvtColor(frame_value, cv2.COLOR_BGR2GRAY)\n",
        "\n",
        "    # Otsu's thresholding\n",
        "    _, thresh = cv2.threshold(gray, 0, 255, cv2.THRESH_BINARY + cv2.THRESH_OTSU)\n",
        "\n",
        "    if cv2.countNonZero(thresh) > 40000:  # Any change detected?\n",
        "        frame_diff.append(frames[i - 1])\n",
        "\n",
        "print(len(frame_diff))"
      ]
    },
    {
      "cell_type": "code",
      "execution_count": 27,
      "metadata": {
        "id": "2RujPVAOnEK4"
      },
      "outputs": [],
      "source": [
        "# for frame in frame_diff:\n",
        "#   cv2_imshow(frame)"
      ]
    },
    {
      "cell_type": "code",
      "source": [
        "# Get the width and height of the frames\n",
        "height, width, layers = frame_diff[0].shape\n",
        "\n",
        "# Define the codec and create a VideoWriter object\n",
        "fourcc = cv2.VideoWriter_fourcc(*'mp4v')\n",
        "out = cv2.VideoWriter('output.mp4', fourcc, 20.0, (width, height))\n",
        "\n",
        "# Loop through the frames and write them to the video\n",
        "for frame in frame_diff:\n",
        "    out.write(frame)\n",
        "\n",
        "# Release the VideoWriter object\n",
        "out.release()\n",
        "cv2.destroyAllWindows()\n"
      ],
      "metadata": {
        "id": "OB6b5z9y1MHR"
      },
      "execution_count": 38,
      "outputs": []
    }
  ],
  "metadata": {
    "accelerator": "TPU",
    "colab": {
      "gpuType": "V28",
      "provenance": []
    },
    "kernelspec": {
      "display_name": "Python 3",
      "name": "python3"
    },
    "language_info": {
      "name": "python"
    }
  },
  "nbformat": 4,
  "nbformat_minor": 0
}